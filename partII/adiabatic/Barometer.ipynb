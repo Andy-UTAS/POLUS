{
 "cells": [
  {
   "cell_type": "markdown",
   "metadata": {},
   "source": [
    "# The barometer\n",
    "\n",
    "A notebook to aid in the meausurment of atomospheric pressure as required in the Rüchardt experiment in the part II year labs at UTAS\n",
    "\n",
    "Written by A. J. McCulloch, May 2021"
   ]
  },
  {
   "cell_type": "markdown",
   "metadata": {},
   "source": [
    "## Import packages\n",
    "\n",
    "To streamline operations in Python, packages can be imported to perform a host of various tasks.\n",
    "* _numpy_ is a fundamental package for numerical and mathematical computing\n",
    "* _pandas_ is a data analysis tool\n",
    "* _matplotlib_ is used for visualisations\n",
    "* _glob_ is used for pathnames\n",
    "* _scipy_ is used for high-level scientific computing"
   ]
  },
  {
   "cell_type": "code",
   "execution_count": 8,
   "metadata": {},
   "outputs": [],
   "source": [
    "import numpy as np # Numpy for all things numeric\n",
    "import pandas as pd # Pandas for storing and manipulating data\n",
    "import requests\n",
    "from datetime import datetime\n",
    "from uncertainties import ufloat\n",
    "\n",
    "import matplotlib.pyplot as plt # matplotlib for plotting\n",
    "import glob # glob required for searching directories\n",
    "\n",
    "from scipy.interpolate import interp1d # Required for interpolation of the calibration curves\n",
    "from scipy.stats import linregress # Required for linear regression\n",
    "from scipy import integrate # Required for integration\n",
    "from matplotlib import cm # Required for colour mapping\n",
    "\n",
    "import os, sys\n",
    "\n",
    "\n",
    "# Below is some magic to make things work better, don't wory about this\n",
    "class HiddenPrints:\n",
    "    def __enter__(self):\n",
    "        self._original_stdout = sys.stdout\n",
    "        sys.stdout = open(os.devnull, 'w')\n",
    "\n",
    "    def __exit__(self, exc_type, exc_val, exc_tb):\n",
    "        sys.stdout.close()\n",
    "        sys.stdout = self._original_stdout"
   ]
  },
  {
   "cell_type": "markdown",
   "metadata": {},
   "source": [
    "## Corrections to the measured pressure\n",
    "\n",
    "### Temperature corrections based on tabulated data\n",
    "\n",
    "Put in the measurement values and unvertainties, noting that these are in the units of the barometer"
   ]
  },
  {
   "cell_type": "code",
   "execution_count": 9,
   "metadata": {},
   "outputs": [],
   "source": [
    "Height = 30.42 # Barometer reading [inches of Hg]\n",
    "Height_u = 0.05 # Measurement uncertainty of barometer reading\n",
    "Temperature = 57  # Temperature reading [F]\n",
    "Temperature_u = 0.5 # Measurement uncertainty of temperature reading"
   ]
  },
  {
   "cell_type": "markdown",
   "metadata": {},
   "source": [
    "A function which returns the correction factor needed to compensate for the effect of temperature on the pressure reading. Inputs are _h_ which is the pressure (height measurement in inches) and _T_ the temperature in degrees fahrenheit, and the function returns the correction factor and the corrected temperature."
   ]
  },
  {
   "cell_type": "code",
   "execution_count": 10,
   "metadata": {},
   "outputs": [],
   "source": [
    "def correction(h, T):\n",
    "    \n",
    "    # This function takes the pressure reading and the temperatue and applies a correction based on tabulated values from the manufacturer\n",
    "    # Currently, input values are rounded to the closest tabulated values\n",
    "    # The processed could be imporved by interpolating the tabulated values\n",
    "    \n",
    "    df_c = pd.read_csv('Data/Corrections.csv') # Import the tabulated correction data\n",
    "    readings = [] # Initialise an array for the pressure readings in the data\n",
    "    # Extract the pressure readings from the reference data\n",
    "    for i in df_c.columns.values:\n",
    "        try:\n",
    "            readings.append(float(i)) # The first column in a temperature heading (a string) and thus will fail float()\n",
    "        except:\n",
    "            pass\n",
    "    \n",
    "    # Very basic error handling: check the input values to the function are in the accepted data range\n",
    "    if (min(readings) < h < max(readings)) & (df_c['Temperature [F]'].min() < T < df_c['Temperature [F]'].max()):\n",
    "        try:\n",
    "            # Find the tabluated value with the temperature rounded to the nearest degree, and the pressure rounded to the nearest half degree\n",
    "            corr = df_c[df_c['Temperature [F]'] == round(T)][str(round(h * 2)/2)].values[0]\n",
    "            return corr, h-corr\n",
    "        except TypeError:\n",
    "            # Find the tabluated value with the temperature rounded to the nearest degree, and the pressure rounded to the nearest half degree\n",
    "            corr = df_c[df_c['Temperature [F]'] == round(T.n)][str(round(h.n * 2)/2)].values[0]\n",
    "            return corr, h-corr\n",
    "        except:\n",
    "            # This error should not really be thrown: if the values passed the verification above, it should work!\n",
    "            raise ValueError('Incorrect data format, check values manually')\n",
    "    else:\n",
    "        if len(readings) == 0:\n",
    "            # The columns (pressure readings) were not found, likely because the file wasn't there or corrupted\n",
    "            raise ValueError('Verify the location/fidelity of the corrections file')\n",
    "        elif min(readings) < h < max(readings):\n",
    "            # If the pressure reading is good, the temperature must be bad\n",
    "            raise ValueError('Temperature out of range')\n",
    "        elif df_c['Temperature [F]'].min() < T < df_c['Temperature [F]'].max():\n",
    "            # If the temperature reading is good, the pressure must be bad\n",
    "            raise ValueError('Pressure out of range')\n",
    "        else:\n",
    "            # All values are bad!\n",
    "            raise ValueError('Temperature and pressure out of range')"
   ]
  },
  {
   "cell_type": "markdown",
   "metadata": {},
   "source": [
    "A function to covert the pressure from inches of mercury to Pascals"
   ]
  },
  {
   "cell_type": "code",
   "execution_count": 11,
   "metadata": {},
   "outputs": [],
   "source": [
    "def pressure_convert(p):\n",
    "    \n",
    "    # Function to convert inches of mercury to Pascals\n",
    "    # conversion: 1 inch = 25.4 mm, 1 mm Hg = 133.322387415 Pa\n",
    "    \n",
    "    return p * 25.4 * 133.322387415"
   ]
  },
  {
   "cell_type": "markdown",
   "metadata": {},
   "source": [
    "The benefits of using python are its versitiliy and broad applicability. At this point, we are measing the ambient pressure using a barometer, but the pressure is actively monitored as part of weather monitoring. The Bureau of Meterology (BoM) has a Hobart based weather station and publishes the measurements in real time, which we can collect and check that our result is consistent. To do this, we make use of the _requests_ library, which can collect the data from the BoM. We explicitly ask for the data in JavaScript Object Notation (JSON) format, which is routinely used to store web-based data. We can use the _requests.json()_ functionality to interpret the data, and with a bit of simple manipulation return the pressure as measured in Hobart!"
   ]
  },
  {
   "cell_type": "code",
   "execution_count": 12,
   "metadata": {},
   "outputs": [],
   "source": [
    "def get_pressure(ret=False):\n",
    "    BOM = 'http://www.bom.gov.au/fwo/IDT60901/IDT60901.94970.json' # Hobart weather station\n",
    "    headers = {'User-Agent' : 'Mozilla/5.0 (Windows NT 10.0; Win64; x64; rv:88.0) Gecko/20100101 Firefox/88.0'}\n",
    "    r = requests.get(BOM, headers = headers)\n",
    "\n",
    "    data =  r.json()['observations']['data'][0]\n",
    "\n",
    "    BOM_data = []\n",
    "    for f in ['local_date_time_full', 'press']:\n",
    "        if f == 'local_date_time_full':\n",
    "            BOM_data.append(datetime.strptime(data[f], format('%Y%m%d%H%M%S')))\n",
    "        else:\n",
    "            BOM_data.append(data[f])\n",
    "\n",
    "    print(f\"Pressure measured at {BOM_data[0].strftime('%H%M on %d/%m/%y')} by the BOM: {BOM_data[1]} hPa\")\n",
    "    \n",
    "    if ret == True:\n",
    "        return BOM_data[1]"
   ]
  },
  {
   "cell_type": "code",
   "execution_count": 13,
   "metadata": {},
   "outputs": [],
   "source": [
    "def return_hPa(Height, Height_u, Temperature, Temperature_u):\n",
    "    h_meas = ufloat(Height, Height_u)\n",
    "    T_meas = ufloat(Temperature, Temperature_u)\n",
    "    \n",
    "    p_hPa = pressure_convert(correction(h_meas, T_meas)[1])/1e2\n",
    "    print(f'Input values return pressure of {p_hPa} hPa')\n",
    "    \n",
    "    get_pressure()\n",
    "    \n",
    "    return p_hPa"
   ]
  },
  {
   "cell_type": "code",
   "execution_count": 14,
   "metadata": {},
   "outputs": [
    {
     "name": "stdout",
     "output_type": "stream",
     "text": [
      "Input values return pressure of 1027.5+/-1.7 hPa\n",
      "Pressure measured at 1330 on 06/04/22 by the BOM: 1025.9 hPa\n"
     ]
    }
   ],
   "source": [
    "p = return_hPa(Height, Height_u, Temperature, Temperature_u)"
   ]
  },
  {
   "cell_type": "markdown",
   "metadata": {},
   "source": [
    "### Corrections based of formulae\n",
    "\n",
    "A more complete correction of the pressure requires three separate steps: a correction of thermal effects, a correction of the local grivational potential, and a correction due to the altitude of the measurement. We begin by defining the functions as sourced from [this barometer manual](https://novalynx.com/manuals/230-7410-7420-manual.pdf):"
   ]
  },
  {
   "cell_type": "code",
   "execution_count": 15,
   "metadata": {},
   "outputs": [],
   "source": [
    "def corr_T(P,T):\n",
    "    L = 1.02e-5 \n",
    "    M = 10.10e-5\n",
    "    return P * (((1+L*(T-62))/(1+M*(T-32)))-1)\n",
    "\n",
    "def corr_g(P, phi):\n",
    "    return P * ((980.616/980.665) * (1 - (2637.3 * np.cos(2*phi) + 5.9 * (np.cos(2*phi))**2)/1e6) - 1)\n",
    "\n",
    "def corr_s(H):\n",
    "    P0 = 29.921\n",
    "    return P0 * (1 - (1 - (6.5e-3/288.16)*H) ** 5.2561)"
   ]
  },
  {
   "cell_type": "markdown",
   "metadata": {},
   "source": [
    "To reproduce table 5.1.A from the barometer manual, we can definte a function to print each correction and pressure:"
   ]
  },
  {
   "cell_type": "code",
   "execution_count": 16,
   "metadata": {},
   "outputs": [],
   "source": [
    "def pressure_corrections(P, T, phi, H, SLP = False):\n",
    "    C = corr_T(P, T)\n",
    "    print(f\"The temperature correction is {C:.3f} inches Hg\")\n",
    "    P += C\n",
    "    print(f\"The temperature corrected pressure is {P:.3f} inches Hg\\n\")\n",
    "    C = corr_g(P, np.radians(phi_ex))\n",
    "    \n",
    "    print(f\"The gravity correction is {C:.3f} inches Hg\")\n",
    "    P += C\n",
    "    print(f\"The local (gravity corrected) pressure is {P:.3f} inches Hg\\n\")\n",
    "    C = corr_g(P, np.radians(phi_ex))\n",
    "    \n",
    "    if SLP == True:\n",
    "        C = corr_s(H)\n",
    "        print(f\"The sea-level differential is {C:.3f} inches Hg\")\n",
    "        P += C    \n",
    "        print(f\"The equivalent sea-level pressure is {P:.3f} inches Hg\")\n",
    "\n",
    "    return P"
   ]
  },
  {
   "cell_type": "markdown",
   "metadata": {},
   "source": [
    "and then use the example values as provided to ensure consistency"
   ]
  },
  {
   "cell_type": "code",
   "execution_count": 17,
   "metadata": {},
   "outputs": [
    {
     "name": "stdout",
     "output_type": "stream",
     "text": [
      "The temperature correction is -0.105 inches Hg\n",
      "The temperature corrected pressure is 29.395 inches Hg\n",
      "\n",
      "The gravity correction is -0.015 inches Hg\n",
      "The local (gravity corrected) pressure is 29.380 inches Hg\n",
      "\n",
      "The sea-level differential is 0.537 inches Hg\n",
      "The equivalent sea-level pressure is 29.917 inches Hg\n"
     ]
    }
   ],
   "source": [
    "P_ex, T_ex, phi_ex, H_ex = (29.5, 68, 40, 152.4)\n",
    "\n",
    "example_pressure = pressure_corrections(P_ex, T_ex, phi_ex, H_ex, True)"
   ]
  },
  {
   "cell_type": "markdown",
   "metadata": {},
   "source": [
    "For our data, we define another function:"
   ]
  },
  {
   "cell_type": "code",
   "execution_count": 18,
   "metadata": {},
   "outputs": [],
   "source": [
    "def full_corrections_hPa(Height, Height_u, Temperature, Temperature_u, phi = 42.9, H = 31.54):\n",
    "    h_meas = ufloat(Height, Height_u)\n",
    "    T_meas = ufloat(Temperature, Temperature_u)\n",
    "    \n",
    "    with HiddenPrints():\n",
    "        p_hPa = pressure_convert(pressure_corrections(h_meas, T_meas, phi, H))/1e2\n",
    "        \n",
    "    print(f'Input values return pressure of {p_hPa} hPa')\n",
    "    \n",
    "    return p_hPa"
   ]
  },
  {
   "cell_type": "markdown",
   "metadata": {},
   "source": [
    "into which we can put the measured values (as per the section above):"
   ]
  },
  {
   "cell_type": "code",
   "execution_count": 19,
   "metadata": {},
   "outputs": [
    {
     "name": "stdout",
     "output_type": "stream",
     "text": [
      "Input values return pressure of 1027.0+/-1.7 hPa\n"
     ]
    }
   ],
   "source": [
    "inputvals = (Height, Height_u, Temperature, Temperature_u)\n",
    "P = full_corrections_hPa(*inputvals)"
   ]
  },
  {
   "cell_type": "markdown",
   "metadata": {},
   "source": [
    "From [the weather station description page](http://www.bom.gov.au/products/IDT60901/IDT60901.94970.shtml), the altitude of the station is given as 50.5 m, meaning we can correct this a common height and check for consistency"
   ]
  },
  {
   "cell_type": "code",
   "execution_count": 20,
   "metadata": {},
   "outputs": [],
   "source": [
    "def localvsBOM(Height, Height_u, Temperature, Temperature_u, phi = 42.9, H = 31.54):\n",
    "    h_meas = ufloat(Height, Height_u)\n",
    "    T_meas = ufloat(Temperature, Temperature_u)\n",
    "    \n",
    "    with HiddenPrints():\n",
    "        p_hPa = pressure_convert(pressure_corrections(h_meas, T_meas, phi, H, True))/1e2\n",
    "        P_BOM = get_pressure(ret=True)\n",
    "    P_BOM += pressure_convert(corr_s(50.5))/1e2\n",
    "    \n",
    "    d = abs((P_BOM - p_hPa.n)/P_BOM) * 100\n",
    "    \n",
    "    print(f\"The pressure corrected for sea level is {p_hPa} hPa based on the input values and {P_BOM:.1f} hPa as measured by the BOM\\nThe discrepancy between these values is {d:.1f}%\")"
   ]
  },
  {
   "cell_type": "code",
   "execution_count": 21,
   "metadata": {},
   "outputs": [
    {
     "name": "stdout",
     "output_type": "stream",
     "text": [
      "The pressure corrected for sea level is 1030.8+/-1.7 hPa based on the input values and 1032.0 hPa as measured by the BOM\n",
      "The discrepancy between these values is 0.1%\n"
     ]
    }
   ],
   "source": [
    "localvsBOM(*inputvals)"
   ]
  }
 ],
 "metadata": {
  "kernelspec": {
   "display_name": "Python 3",
   "language": "python",
   "name": "python3"
  },
  "language_info": {
   "codemirror_mode": {
    "name": "ipython",
    "version": 3
   },
   "file_extension": ".py",
   "mimetype": "text/x-python",
   "name": "python",
   "nbconvert_exporter": "python",
   "pygments_lexer": "ipython3",
   "version": "3.8.5"
  }
 },
 "nbformat": 4,
 "nbformat_minor": 4
}
