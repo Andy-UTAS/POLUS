{
 "cells": [
  {
   "cell_type": "markdown",
   "metadata": {},
   "source": [
    "# RLC circuit analysis\n",
    "\n",
    "A notebook to analyse the data from an investigation from RLC circuits\n",
    "Rick and Revolio, 22/03/2022"
   ]
  },
  {
   "cell_type": "markdown",
   "metadata": {},
   "source": [
    "## Import packages"
   ]
  },
  {
   "cell_type": "code",
   "execution_count": null,
   "metadata": {},
   "outputs": [],
   "source": [
    "import pandas as pd # panads for data manipulation\n",
    "import numpy as np # numpy for all things mathematical/numerical\n",
    "import matplotlib.pyplot as plt # matplotlib.pyplot for plotting\n",
    "import glob # glob for file collection\n",
    "from scipy import optimize # optimize for least squares fitting"
   ]
  },
  {
   "cell_type": "markdown",
   "metadata": {},
   "source": [
    "Read in the files from the RLC directory, taking only .csv formatted files"
   ]
  },
  {
   "cell_type": "code",
   "execution_count": null,
   "metadata": {},
   "outputs": [],
   "source": [
    "files = glob.glob('RLC/*.csv')"
   ]
  },
  {
   "cell_type": "markdown",
   "metadata": {},
   "source": [
    "Check that the files open as expected:"
   ]
  },
  {
   "cell_type": "code",
   "execution_count": null,
   "metadata": {},
   "outputs": [],
   "source": [
    "test = files[0]\n",
    "df = pd.read_csv(test, skiprows = 8, header = None) # We need to skip the first 8 rows as there is a bunch of instrument information that we don't need for this analysis\n",
    "df"
   ]
  },
  {
   "cell_type": "markdown",
   "metadata": {},
   "source": [
    "With an individual file working, I want to get the frequency so I can label each data point. Something like this should work:"
   ]
  },
  {
   "cell_type": "code",
   "execution_count": null,
   "metadata": {},
   "outputs": [],
   "source": [
    "freq = int(round(df[df.isin([\"Ch A Frequency (Hz)\"]).any(axis=1)][1],0))"
   ]
  },
  {
   "cell_type": "markdown",
   "metadata": {},
   "source": [
    "Now to actually get the data. I wrote many test pieces to get all of this working first, but the general idea is that we read in each file, take the infomation that we need, and the add that to the _data_ dataframe. The only non-trivial things we do: the first time that the loop runs, we take the names of the measured quantities and record these in a list; ultimately we set this to be the index of the dataframe before transposing it it make it useful,"
   ]
  },
  {
   "cell_type": "code",
   "execution_count": null,
   "metadata": {},
   "outputs": [],
   "source": [
    "# Loop over all the files in the RLC directory\n",
    "for n, f in enumerate(files):\n",
    "    df = pd.read_csv(f, skiprows = 8, header = None)\n",
    "    \n",
    "    # First time around, get the measurement names and store them\n",
    "    if n == 0:\n",
    "        headers = df[0]\n",
    "        data = pd.DataFrame()\n",
    "        data['Frequencies'] = headers\n",
    "    \n",
    "    # Get the frequency from the measured value. This is just a label, it is not actually used in plots or analysis\n",
    "    freq = int(round(df[df.isin([\"Ch A Frequency (Hz)\"]).any(axis=1)][1],0))\n",
    "    data[freq] = df[1] # create a new column in the dataframe, labelled by the frequency above\n",
    "    \n",
    "data = data.set_index('Frequencies') # Set the index for the dataframe as the frequencies as extracted in the loop\n",
    "data = data.T # Transpose the dataframe"
   ]
  },
  {
   "cell_type": "markdown",
   "metadata": {},
   "source": [
    "With data in a useful format, we can proceed to plotting it. I have done a bit of plotting before, so I am going to use the _grid_spec_ functionality to plot both the phase and amplitude on the same image"
   ]
  },
  {
   "cell_type": "code",
   "execution_count": null,
   "metadata": {},
   "outputs": [],
   "source": [
    "f, A, B, p = data['Ch A Frequency (Hz)'], data['Ch A Amplitude (V)'], data['Ch B Amplitude (V)'], np.pi * data['Ch A - Ch B Phase (deg)']/180 # Values to plot\n",
    "A_err = A/100\n",
    "p_err = 0.1\n",
    "\n",
    "fig = plt.figure(figsize=(12, 10)) # Set the figure size\n",
    "gs = fig.add_gridspec(nrows=2, ncols=1, height_ratios=[5, 2]) # Set the ratios of sub images\n",
    "plt.rcParams['font.size'] = 16 # Increase the font size\n",
    "\n",
    "R, L, C = 1e3, 5e-3, 103e-9\n",
    "w0 = 1/(2*np.pi*np.sqrt(L * C))\n",
    "Q = (1/R) * np.sqrt(L/C)\n",
    "BW = w0/Q\n",
    "\n",
    "# First image: amplitude response\n",
    "ax0 = fig.add_subplot(gs[0,:])\n",
    "ax0.errorbar(f, A, yerr = A_err, fmt='o', color = 'C0', label = 'Voltage')\n",
    "ax0.errorbar(f, (B-A)/B, yerr = A_err, fmt='x', color = 'C1', label = 'Power')\n",
    "ax0.axvline(w0, color = 'C2', linestyle = '--', label = '$1/\\sqrt{LC}$')\n",
    "# I plotted this, but I don't think it added much value\n",
    "# ax0.axvspan(w0-BW/2, w0+BW/2, alpha=0.1, color='C2')\n",
    "fig.axes[0].set_ylabel('Voltage [V]')  # Set the y-axis label\n",
    "ax0.set_title('Response in RLC circuit')\n",
    "fig.axes[0].legend()\n",
    "plt.xscale('log')\n",
    "\n",
    "\n",
    "# First image: phase response\n",
    "ax1 = fig.add_subplot(gs[1,:])\n",
    "ax1.errorbar(f, p, yerr = p_err, fmt='o', color = 'C3', label = 'Phase')\n",
    "ax1.set_ylim((-4, 4))\n",
    "fig.axes[1].set_ylabel('Phase [rad]')\n",
    "fig.axes[1].set_xlabel('Frequency [Hz]')  # Set the x-axis label\n",
    "plt.xscale('log')\n",
    "\n",
    "plt.savefig('RLC.pdf', facecolor='white', transparent=False) # Save the figure\n",
    "plt.show();"
   ]
  }
 ],
 "metadata": {
  "kernelspec": {
   "display_name": "Python 3",
   "language": "python",
   "name": "python3"
  },
  "language_info": {
   "codemirror_mode": {
    "name": "ipython",
    "version": 3
   },
   "file_extension": ".py",
   "mimetype": "text/x-python",
   "name": "python",
   "nbconvert_exporter": "python",
   "pygments_lexer": "ipython3",
   "version": "3.8.5"
  }
 },
 "nbformat": 4,
 "nbformat_minor": 4
}
