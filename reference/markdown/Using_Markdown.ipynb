{
 "cells": [
  {
   "cell_type": "code",
   "execution_count": null,
   "metadata": {},
   "outputs": [],
   "source": [
    "# Using Markdown\n",
    "\n",
    "In this Notebook, we'll go through some of the commands that help you format markdown (i.e. text) in your Jupyter Notebooks. Most of this you might not use, but it's handy nevertheless. Double click on the cells to open them up and see how the Markdown code works"
   ]
  },
  {
   "cell_type": "code",
   "execution_count": null,
   "metadata": {},
   "outputs": [],
   "source": [
    "# Headings \n",
    "\n",
    "Headings are made using the '#' symbol. By using multiple #s, you can create subheadings.\n",
    "\n",
    "## Sub Heading\n",
    "\n",
    "### Sub Sub Heading \n",
    "\n",
    "#### ..etc.."
   ]
  },
  {
   "cell_type": "code",
   "execution_count": null,
   "metadata": {},
   "outputs": [],
   "source": [
    "# Creating lists\n",
    "\n",
    "Bullet points are created using - or *. Indenting the symbol created sub-lists etc...\n",
    "* Something\n",
    "    - Something else\n",
    "        - More stuff\n",
    "- Another thing\n",
    "\n",
    "We make ordered lists using numbers\n",
    "1. First thing\n",
    "    1. Sub thing\n",
    "        1. Other sub thing\n",
    "2. Second thing\n",
    "\n",
    "We can make check-box/task lists using square brackets: \n",
    "- [x] Have first coffee\n",
    "- [ ] Have second coffee\n",
    "- [ ] Have third coffee\n",
    "\n"
   ]
  },
  {
   "cell_type": "code",
   "execution_count": null,
   "metadata": {},
   "outputs": [],
   "source": [
    "# Changing text\n",
    "\n",
    "We can make text **BOLD** or *italic* using the asterisk.\n",
    "\n",
    "We can make indented quote blocks...\n",
    "> In the beginning...etc...\n",
    "\n",
    "We can also highlight code operations in-text by encasing the text like so: `code/function/thing`\n",
    "\n",
    "Or used fenced code blocks...\n",
    "\n",
    "```\n",
    "Code thing\n",
    "does some stuff \n",
    "```\n",
    "\n",
    "We can highlight regular text using HTML tags...\n",
    "<mark>Highlighted Text</mark>\n",
    "\n",
    "<mark style=\"background-color: lightgreen\">Or in a different color</mark>\n",
    "\n",
    "\n",
    "<span style=\"color:orange\">Changing text color is a similar process</span>\n"
   ]
  },
  {
   "cell_type": "code",
   "execution_count": null,
   "metadata": {},
   "outputs": [],
   "source": [
    "# Inserting Links \n",
    "\n",
    "Inserting links to stuff on the internet is useful when you want to remember where you got information from. It works like this:\n",
    "\n",
    "`[title](https://www.example.com)`\n",
    "\n",
    "For example, here is the Wikepedia page about [Cats](https://en.wikipedia.org/wiki/Cat)"
   ]
  },
  {
   "cell_type": "code",
   "execution_count": null,
   "metadata": {},
   "outputs": [],
   "source": [
    "# Tables\n",
    "\n",
    "When constructing tables, you draw the table in using combinations of '|' and '--' as seen here.\n",
    "\n",
    "| Thing | Description |\n",
    "| ----------- | ----------- |\n",
    "| Header | Title |\n",
    "| Paragraph | Text |"
   ]
  },
  {
   "cell_type": "code",
   "execution_count": null,
   "metadata": {},
   "outputs": [],
   "source": [
    "# Equations\n",
    "\n",
    "Rather than typing our equations out like E=mc^2, we can format them using `$`. We can format them in line with our text using one set of `$s`, i.e. $E=mc^2$. Or we can make them stand out on the page with a double set `$$`...\n",
    "$$E=mc^2.$$ \n",
    "\n",
    "If we want superscripts and subscripts e.g. $x_2, x^2$. If there are multiple things in a subscript or superscript then we use curly brackets `x^{7t-3}_{a,b,c}` $$x^{7t-3}_{a,b,c}$$\n",
    "\n",
    "We use the `\\` a lot to enter math commands... \n",
    "- If we want fractions $\\frac{2}{3}$. \n",
    "- If we want some Greek letters $\\alpha, \\beta, \\mu, \\gamma, \\Gamma, \\eta, \\theta, \\Theta$\n",
    "- If we want some basic operations $\\times, \\div, \\nabla, \\int, \\ln, \\log, \\ne, \\sim, \\gtrsim, \\lesssim, \\gg, \\ll, \\iff$\n",
    "- Change the size of an equation with `\\small, \\large, \\Large, \\huge, \\Huge` e.g. $$\\Huge{x+2}$$$$\\huge{x+2}$$$$\\Large{x+2}$$$$\\large{x+2}$$$$\\small{x+2}$$\n",
    "\n",
    "\n",
    "\n",
    "\n"
   ]
  },
  {
   "cell_type": "code",
   "execution_count": null,
   "metadata": {},
   "outputs": [],
   "source": []
  }
 ],
 "metadata": {
  "kernelspec": {
   "display_name": "Python 3",
   "language": "python",
   "name": "python3"
  },
  "language_info": {
   "codemirror_mode": {
    "name": "ipython",
    "version": 3
   },
   "file_extension": ".py",
   "mimetype": "text/x-python",
   "name": "python",
   "nbconvert_exporter": "python",
   "pygments_lexer": "ipython3",
   "version": "3.8.5"
  }
 },
 "nbformat": 4,
 "nbformat_minor": 4
}
